{
 "cells": [
  {
   "cell_type": "markdown",
   "id": "68c9f32a",
   "metadata": {},
   "source": [
    "# DHLAB"
   ]
  },
  {
   "cell_type": "markdown",
   "id": "b1e1fd1e",
   "metadata": {},
   "source": [
    "This notebook showcases the DHLAB infrastructure of the National Library of Norway. The infrastructure is both a REST API, a Python package (pip install dhlab) and a number of easy-to-use web apps located at dh.nb.no/apps."
   ]
  },
  {
   "cell_type": "code",
   "execution_count": null,
   "id": "5b367f7b-9898-481b-9e27-9797db6d0f38",
   "metadata": {},
   "outputs": [],
   "source": [
    "# Uncomment this line if you get ImportErrors below\n",
    "# !pip install dhlab"
   ]
  },
  {
   "cell_type": "markdown",
   "id": "ce8133b9",
   "metadata": {},
   "source": [
    "Asuuming that you have already installed __dhlab__, let's start by importing the module."
   ]
  },
  {
   "cell_type": "code",
   "execution_count": 2,
   "id": "a1c8347e-f847-45a1-8e4f-884f54ee5afd",
   "metadata": {},
   "outputs": [],
   "source": [
    "from dhlab import Corpus"
   ]
  },
  {
   "cell_type": "markdown",
   "id": "22fdc170-2187-4683-9552-e28d90eba71e",
   "metadata": {},
   "source": [
    "## Exercises"
   ]
  },
  {
   "cell_type": "markdown",
   "id": "b4bf417a-00b6-46bb-b7f7-720e06d2a6de",
   "metadata": {},
   "source": [
    "- Run the code below and reflect: What does each code cell do?\n",
    "- What does the corpus analysis tell us about the usage of the word 'ytringsfrihet'?\n",
    "- Think about a different word to investigate in the book collection of the National Library. \n",
    "- Carry out a similar corpus analysis on that word. Are your expectations met?\n",
    "- Do you see any limitations in this kind of corpus analysis?"
   ]
  },
  {
   "cell_type": "markdown",
   "id": "9a2f9e36-3d29-4567-9069-7c375af06946",
   "metadata": {},
   "source": [
    "## Corpus"
   ]
  },
  {
   "cell_type": "markdown",
   "id": "cb8163c6-3c4a-4065-8dfb-96960a895a26",
   "metadata": {},
   "source": [
    "We will start by creating a corpus, containing all the texts we want to investigate. We will concentrate on books here (doctype=\"digibok\") in the period between 1990 and 2020, where the word \"ytringsfrihet\" is used at least one once. We will limit the search to max. 1000 instances."
   ]
  },
  {
   "cell_type": "code",
   "execution_count": 10,
   "id": "428493f1-1f0b-4ecb-a30c-4ab494b128d2",
   "metadata": {},
   "outputs": [],
   "source": [
    "corpus = Corpus(doctype=\"digibok\", from_year=1990, to_year=2020, fulltext=\"ytringsfrihet\", limit=1000)"
   ]
  },
  {
   "cell_type": "markdown",
   "id": "1686b439-2168-4a35-9e63-fdc4553cbb2e",
   "metadata": {},
   "source": [
    "Let us now have a quick look at some sample content (the first 10 entries) of the corpus:"
   ]
  },
  {
   "cell_type": "code",
   "execution_count": 11,
   "id": "37a43f5f-239e-46aa-ab39-0ebe433d2317",
   "metadata": {},
   "outputs": [
    {
     "data": {
      "text/html": [
       "<div>\n",
       "<style scoped>\n",
       "    .dataframe tbody tr th:only-of-type {\n",
       "        vertical-align: middle;\n",
       "    }\n",
       "\n",
       "    .dataframe tbody tr th {\n",
       "        vertical-align: top;\n",
       "    }\n",
       "\n",
       "    .dataframe thead th {\n",
       "        text-align: right;\n",
       "    }\n",
       "</style>\n",
       "<table border=\"1\" class=\"dataframe\">\n",
       "  <thead>\n",
       "    <tr style=\"text-align: right;\">\n",
       "      <th></th>\n",
       "      <th>urn</th>\n",
       "      <th>title</th>\n",
       "      <th>authors</th>\n",
       "      <th>year</th>\n",
       "    </tr>\n",
       "  </thead>\n",
       "  <tbody>\n",
       "    <tr>\n",
       "      <th>10800</th>\n",
       "      <td>URN:NBN:no-nb_digibok_2021093048519</td>\n",
       "      <td>Særtrykk av Det norske samfunn : (bind 1, 2 og...</td>\n",
       "      <td>Frønes, Ivar / Kjølsrød, Lise</td>\n",
       "      <td>2017</td>\n",
       "    </tr>\n",
       "    <tr>\n",
       "      <th>488</th>\n",
       "      <td>URN:NBN:no-nb_digibok_2012103106114</td>\n",
       "      <td>Kosmopolitikk : en optimistisk politikk for de...</td>\n",
       "      <td>Eriksen , Thomas Hylland / Tretvoll , Halvor F...</td>\n",
       "      <td>2006</td>\n",
       "    </tr>\n",
       "    <tr>\n",
       "      <th>1769</th>\n",
       "      <td>URN:NBN:no-nb_digibok_2014030306052</td>\n",
       "      <td>I lidenskapens vold</td>\n",
       "      <td>Du Pont , Diane / Gabrielsen , Marianne</td>\n",
       "      <td>2009</td>\n",
       "    </tr>\n",
       "    <tr>\n",
       "      <th>11634</th>\n",
       "      <td>URN:NBN:no-nb_digibok_2018021348091</td>\n",
       "      <td>Portretter 1814 - 2014</td>\n",
       "      <td>Ugelstad , Janike Sverdrup</td>\n",
       "      <td>2014</td>\n",
       "    </tr>\n",
       "    <tr>\n",
       "      <th>4176</th>\n",
       "      <td>URN:NBN:no-nb_digibok_2014061205103</td>\n",
       "      <td>Adrian Marconis store sorg</td>\n",
       "      <td>Olsen , Morten Harry</td>\n",
       "      <td>2011</td>\n",
       "    </tr>\n",
       "    <tr>\n",
       "      <th>11397</th>\n",
       "      <td>URN:NBN:no-nb_digibok_2018062148100</td>\n",
       "      <td>Vikinger : skuespill i 5 akter</td>\n",
       "      <td>Borgen , Johan</td>\n",
       "      <td>2000</td>\n",
       "    </tr>\n",
       "    <tr>\n",
       "      <th>11765</th>\n",
       "      <td>URN:NBN:no-nb_digibok_2018073048052</td>\n",
       "      <td>Religion, etikk og filosofi i barnehagen</td>\n",
       "      <td>Andreassen , Bengt-Ove / Olsen , Torjer A.</td>\n",
       "      <td>2014</td>\n",
       "    </tr>\n",
       "    <tr>\n",
       "      <th>4334</th>\n",
       "      <td>URN:NBN:no-nb_digibok_2014081406008</td>\n",
       "      <td>Skuddene på Serena hotell</td>\n",
       "      <td>Græsvik , Fredrik</td>\n",
       "      <td>2009</td>\n",
       "    </tr>\n",
       "    <tr>\n",
       "      <th>9364</th>\n",
       "      <td>URN:NBN:no-nb_digibok_2020080407072</td>\n",
       "      <td>Gi meg himmelen : den forbløffende sannheten o...</td>\n",
       "      <td>Xinran / Poulsson , Poul Henrik</td>\n",
       "      <td>2016</td>\n",
       "    </tr>\n",
       "    <tr>\n",
       "      <th>1070</th>\n",
       "      <td>URN:NBN:no-nb_digibok_2013082206033</td>\n",
       "      <td>Monitor : [samfunnsfag for 8.-10.trinn] : Oppg...</td>\n",
       "      <td>Berner , Elisabeth S.</td>\n",
       "      <td>2008</td>\n",
       "    </tr>\n",
       "  </tbody>\n",
       "</table>\n",
       "</div>"
      ],
      "text/plain": [
       "                                       urn  \\\n",
       "10800  URN:NBN:no-nb_digibok_2021093048519   \n",
       "488    URN:NBN:no-nb_digibok_2012103106114   \n",
       "1769   URN:NBN:no-nb_digibok_2014030306052   \n",
       "11634  URN:NBN:no-nb_digibok_2018021348091   \n",
       "4176   URN:NBN:no-nb_digibok_2014061205103   \n",
       "11397  URN:NBN:no-nb_digibok_2018062148100   \n",
       "11765  URN:NBN:no-nb_digibok_2018073048052   \n",
       "4334   URN:NBN:no-nb_digibok_2014081406008   \n",
       "9364   URN:NBN:no-nb_digibok_2020080407072   \n",
       "1070   URN:NBN:no-nb_digibok_2013082206033   \n",
       "\n",
       "                                                   title  \\\n",
       "10800  Særtrykk av Det norske samfunn : (bind 1, 2 og...   \n",
       "488    Kosmopolitikk : en optimistisk politikk for de...   \n",
       "1769                                 I lidenskapens vold   \n",
       "11634                             Portretter 1814 - 2014   \n",
       "4176                          Adrian Marconis store sorg   \n",
       "11397                     Vikinger : skuespill i 5 akter   \n",
       "11765           Religion, etikk og filosofi i barnehagen   \n",
       "4334                           Skuddene på Serena hotell   \n",
       "9364   Gi meg himmelen : den forbløffende sannheten o...   \n",
       "1070   Monitor : [samfunnsfag for 8.-10.trinn] : Oppg...   \n",
       "\n",
       "                                                 authors  year  \n",
       "10800                      Frønes, Ivar / Kjølsrød, Lise  2017  \n",
       "488    Eriksen , Thomas Hylland / Tretvoll , Halvor F...  2006  \n",
       "1769             Du Pont , Diane / Gabrielsen , Marianne  2009  \n",
       "11634                         Ugelstad , Janike Sverdrup  2014  \n",
       "4176                                Olsen , Morten Harry  2011  \n",
       "11397                                     Borgen , Johan  2000  \n",
       "11765         Andreassen , Bengt-Ove / Olsen , Torjer A.  2014  \n",
       "4334                                   Græsvik , Fredrik  2009  \n",
       "9364                     Xinran / Poulsson , Poul Henrik  2016  \n",
       "1070                               Berner , Elisabeth S.  2008  "
      ]
     },
     "execution_count": 11,
     "metadata": {},
     "output_type": "execute_result"
    }
   ],
   "source": [
    "corpus[[\"urn\", \"title\", \"authors\", \"year\"]].head(10)"
   ]
  },
  {
   "cell_type": "markdown",
   "id": "cf179bbe-15f8-43b8-a945-7032eb4a7cb4",
   "metadata": {},
   "source": [
    "## Concordance"
   ]
  },
  {
   "cell_type": "markdown",
   "id": "daa36af8-4a29-4c43-b7d9-d820bcaa641e",
   "metadata": {},
   "source": [
    "The DHLAB package allows us to extract __concordances__ and __collocations__ from the desired corpus. Let's start by looking at occurences of the word 'ytringsfrihet' in the selected corpus:"
   ]
  },
  {
   "cell_type": "code",
   "execution_count": 25,
   "id": "e04335e6-81ec-4e7e-8aa8-b51e0a33fc54",
   "metadata": {},
   "outputs": [
    {
     "data": {
      "text/html": [
       "<style type=\"text/css\">\n",
       "</style>\n",
       "<table id=\"T_70a5a\">\n",
       "  <thead>\n",
       "    <tr>\n",
       "      <th class=\"blank level0\" >&nbsp;</th>\n",
       "      <th id=\"T_70a5a_level0_col0\" class=\"col_heading level0 col0\" >link</th>\n",
       "      <th id=\"T_70a5a_level0_col1\" class=\"col_heading level0 col1\" >concordance</th>\n",
       "    </tr>\n",
       "  </thead>\n",
       "  <tbody>\n",
       "    <tr>\n",
       "      <th id=\"T_70a5a_level0_row0\" class=\"row_heading level0 row0\" >468</th>\n",
       "      <td id=\"T_70a5a_row0_col0\" class=\"data row0 col0\" ><a target='_blank' href = 'https://urn.nb.no/URN:NBN:no-nb_digibok_2014071006024'>URN:NBN:no-nb_digibok_2014071006024</a></td>\n",
       "      <td id=\"T_70a5a_row0_col1\" class=\"data row0 col1\" >... en analyse av de forhold som påvirker den reelle <b>ytringsfrihet</b> og en drøftelse av det rettspolitiske grunnlag for grunnlovsvernet av... </td>\n",
       "    </tr>\n",
       "    <tr>\n",
       "      <th id=\"T_70a5a_level0_row1\" class=\"row_heading level0 row1\" >232</th>\n",
       "      <td id=\"T_70a5a_row1_col0\" class=\"data row1 col0\" ><a target='_blank' href = 'https://urn.nb.no/URN:NBN:no-nb_digibok_2020032648091'>URN:NBN:no-nb_digibok_2020032648091</a></td>\n",
       "      <td id=\"T_70a5a_row1_col1\" class=\"data row1 col1\" >... Volden utgjør en av de største trusler mot pressefrihet og <b>ytringsfrihet</b> , konstaterer UNESCO .</td>\n",
       "    </tr>\n",
       "    <tr>\n",
       "      <th id=\"T_70a5a_level0_row2\" class=\"row_heading level0 row2\" >368</th>\n",
       "      <td id=\"T_70a5a_row2_col0\" class=\"data row2 col0\" ><a target='_blank' href = 'https://urn.nb.no/URN:NBN:no-nb_digibok_2021012907595'>URN:NBN:no-nb_digibok_2021012907595</a></td>\n",
       "      <td id=\"T_70a5a_row2_col1\" class=\"data row2 col1\" >Forhåndskontroll av film og aldersgrenser for barns adgang til kinosalen har satt grenser for unges <b>ytringsfrihet</b> i hundre år .... </td>\n",
       "    </tr>\n",
       "    <tr>\n",
       "      <th id=\"T_70a5a_level0_row3\" class=\"row_heading level0 row3\" >281</th>\n",
       "      <td id=\"T_70a5a_row3_col0\" class=\"data row3 col0\" ><a target='_blank' href = 'https://urn.nb.no/URN:NBN:no-nb_digibok_2021011207701'>URN:NBN:no-nb_digibok_2021011207701</a></td>\n",
       "      <td id=\"T_70a5a_row3_col1\" class=\"data row3 col1\" >... på mange av de kritiske argumentene mot åpenhet og <b>ytringsfrihet</b> . Forfatterne forklarer dette med tillitsgraden som vises til de... </td>\n",
       "    </tr>\n",
       "    <tr>\n",
       "      <th id=\"T_70a5a_level0_row4\" class=\"row_heading level0 row4\" >65</th>\n",
       "      <td id=\"T_70a5a_row4_col0\" class=\"data row4 col0\" ><a target='_blank' href = 'https://urn.nb.no/URN:NBN:no-nb_digibok_2012110106089'>URN:NBN:no-nb_digibok_2012110106089</a></td>\n",
       "      <td id=\"T_70a5a_row4_col1\" class=\"data row4 col1\" >... I det totalitære regimet er det ingen forskjell på politikk og privatliv , og det finnes ingen <b>ytringsfrihet</b> .</td>\n",
       "    </tr>\n",
       "    <tr>\n",
       "      <th id=\"T_70a5a_level0_row5\" class=\"row_heading level0 row5\" >89</th>\n",
       "      <td id=\"T_70a5a_row5_col0\" class=\"data row5 col0\" ><a target='_blank' href = 'https://urn.nb.no/URN:NBN:no-nb_digibok_2021072248721'>URN:NBN:no-nb_digibok_2021072248721</a></td>\n",
       "      <td id=\"T_70a5a_row5_col1\" class=\"data row5 col1\" >... Paragraf 100 i Grunnloven slår fast prinsippet om <b>ytringsfrihet</b> og trykkefrihet .</td>\n",
       "    </tr>\n",
       "    <tr>\n",
       "      <th id=\"T_70a5a_level0_row6\" class=\"row_heading level0 row6\" >327</th>\n",
       "      <td id=\"T_70a5a_row6_col0\" class=\"data row6 col0\" ><a target='_blank' href = 'https://urn.nb.no/URN:NBN:no-nb_digibok_2012111508250'>URN:NBN:no-nb_digibok_2012111508250</a></td>\n",
       "      <td id=\"T_70a5a_row6_col1\" class=\"data row6 col1\" >... tradisjon i å ta opp spørsmål omkring demokrati og <b>ytringsfrihet</b> ? Eller kunne han la dem kveles av en global... </td>\n",
       "    </tr>\n",
       "    <tr>\n",
       "      <th id=\"T_70a5a_level0_row7\" class=\"row_heading level0 row7\" >235</th>\n",
       "      <td id=\"T_70a5a_row7_col0\" class=\"data row7 col0\" ><a target='_blank' href = 'https://urn.nb.no/URN:NBN:no-nb_digibok_2015051308234'>URN:NBN:no-nb_digibok_2015051308234</a></td>\n",
       "      <td id=\"T_70a5a_row7_col1\" class=\"data row7 col1\" >En slik utstrakt <b>ytringsfrihet</b> finnes i flere konstitusjoner i den demokratiske del av verden og har til hensikt å gi... </td>\n",
       "    </tr>\n",
       "    <tr>\n",
       "      <th id=\"T_70a5a_level0_row8\" class=\"row_heading level0 row8\" >153</th>\n",
       "      <td id=\"T_70a5a_row8_col0\" class=\"data row8 col0\" ><a target='_blank' href = 'https://urn.nb.no/URN:NBN:no-nb_digibok_2021101248563'>URN:NBN:no-nb_digibok_2021101248563</a></td>\n",
       "      <td id=\"T_70a5a_row8_col1\" class=\"data row8 col1\" >Uten <b>ytringsfrihet</b> og uten et variert tilbud av massemedier , der ytringsfriheten kan komme til uttrykk , er demokratiet utenkelig... </td>\n",
       "    </tr>\n",
       "    <tr>\n",
       "      <th id=\"T_70a5a_level0_row9\" class=\"row_heading level0 row9\" >176</th>\n",
       "      <td id=\"T_70a5a_row9_col0\" class=\"data row9 col0\" ><a target='_blank' href = 'https://urn.nb.no/URN:NBN:no-nb_digibok_2020042748543'>URN:NBN:no-nb_digibok_2020042748543</a></td>\n",
       "      <td id=\"T_70a5a_row9_col1\" class=\"data row9 col1\" >... I tillegg poengterer noen teoretikere at demokrati forutsetter <b>ytringsfrihet</b> for alle , og dessuten en fungerende presse og opplyst befolkning... </td>\n",
       "    </tr>\n",
       "  </tbody>\n",
       "</table>\n"
      ],
      "text/plain": [
       "<pandas.io.formats.style.Styler at 0x765732d892a0>"
      ]
     },
     "execution_count": 25,
     "metadata": {},
     "output_type": "execute_result"
    }
   ],
   "source": [
    "corpus.conc(words='\"ytringsfrihet\"').show()"
   ]
  },
  {
   "cell_type": "markdown",
   "id": "6a98b0f4-58f5-45d6-8ae3-051d9011f4e8",
   "metadata": {},
   "source": [
    "The table shows example concordances from our corpus. The first column contains the object identifier (the URN) with a link to Nettbiblioteket. If you click on the link, you can open that particular book in Nettbiblioteket. Click on the search icon to look for the word inside the digitized book. The last column contains the concordance itself. The bold word is the match and the surrounding words are the context. This kind of concordance is therefore often called Key-word in context (KWIC concordance)."
   ]
  },
  {
   "cell_type": "markdown",
   "id": "7a444355-e0ca-4fc3-a332-82a39b2551f4",
   "metadata": {},
   "source": [
    "## Collocation"
   ]
  },
  {
   "cell_type": "markdown",
   "id": "f5c9015a-7c75-4d88-a561-ab32244a45d8",
   "metadata": {},
   "source": [
    "Concordances are typically analyzed qualitatively, by reading and judging each example. We can also take a quntitative approach and count co-occuring words. The idea is that co-occuring words say something about the usage of a word. In corpus linguistics, there is a saying that \"You shall know a word by the company it keeps.\" (John Rupert Firth). We start by simply counting words surrounding 'ytringsfrhet', sorting that list from top to buttom and extracting the top 10 words:"
   ]
  },
  {
   "cell_type": "code",
   "execution_count": 30,
   "id": "5452a679-d5f0-4acb-af2a-f8d7f9f66f13",
   "metadata": {},
   "outputs": [
    {
     "data": {
      "text/html": [
       "<div>\n",
       "<style scoped>\n",
       "    .dataframe tbody tr th:only-of-type {\n",
       "        vertical-align: middle;\n",
       "    }\n",
       "\n",
       "    .dataframe tbody tr th {\n",
       "        vertical-align: top;\n",
       "    }\n",
       "\n",
       "    .dataframe thead th {\n",
       "        text-align: right;\n",
       "    }\n",
       "</style>\n",
       "<table border=\"1\" class=\"dataframe\">\n",
       "  <thead>\n",
       "    <tr style=\"text-align: right;\">\n",
       "      <th></th>\n",
       "      <th>counts</th>\n",
       "    </tr>\n",
       "  </thead>\n",
       "  <tbody>\n",
       "    <tr>\n",
       "      <th>,</th>\n",
       "      <td>2990</td>\n",
       "    </tr>\n",
       "    <tr>\n",
       "      <th>.</th>\n",
       "      <td>2689</td>\n",
       "    </tr>\n",
       "    <tr>\n",
       "      <th>og</th>\n",
       "      <td>2604</td>\n",
       "    </tr>\n",
       "    <tr>\n",
       "      <th>i</th>\n",
       "      <td>1287</td>\n",
       "    </tr>\n",
       "    <tr>\n",
       "      <th>til</th>\n",
       "      <td>1043</td>\n",
       "    </tr>\n",
       "    <tr>\n",
       "      <th>for</th>\n",
       "      <td>988</td>\n",
       "    </tr>\n",
       "    <tr>\n",
       "      <th>som</th>\n",
       "      <td>961</td>\n",
       "    </tr>\n",
       "    <tr>\n",
       "      <th>er</th>\n",
       "      <td>890</td>\n",
       "    </tr>\n",
       "    <tr>\n",
       "      <th>om</th>\n",
       "      <td>815</td>\n",
       "    </tr>\n",
       "    <tr>\n",
       "      <th>av</th>\n",
       "      <td>775</td>\n",
       "    </tr>\n",
       "  </tbody>\n",
       "</table>\n",
       "</div>"
      ],
      "text/plain": [
       "     counts\n",
       ",      2990\n",
       ".      2689\n",
       "og     2604\n",
       "i      1287\n",
       "til    1043\n",
       "for     988\n",
       "som     961\n",
       "er      890\n",
       "om      815\n",
       "av      775"
      ]
     },
     "execution_count": 30,
     "metadata": {},
     "output_type": "execute_result"
    }
   ],
   "source": [
    "corpus.coll(words=\"ytringsfrihet\").show().head(10)"
   ]
  },
  {
   "cell_type": "markdown",
   "id": "363af9be-1dd8-4cc0-9275-997246cada52",
   "metadata": {},
   "source": [
    "When looking at the words surrounding 'ytringsfrihet', counting these and sorting the list, we typically find words of grammar and tokens of punctuation that would appear before and after almost any noun. We are looking for the words that occur more often together with 'ytringsfrihet' than one would expect. For that purpose, we download a list of the 200,000 most frequent words in the book collections of the National Library of Norway."
   ]
  },
  {
   "cell_type": "code",
   "execution_count": 31,
   "id": "d97e2af9-a73e-4abf-a7d4-4e6da4aa2507",
   "metadata": {},
   "outputs": [],
   "source": [
    "from dhlab import totals\n",
    "frequency_list = totals(200000)"
   ]
  },
  {
   "cell_type": "markdown",
   "id": "22237141-4835-4f63-bcab-2e99f91dec53",
   "metadata": {},
   "source": [
    "We then use that frequency list as a reference for the collocation analysis, yielding a new column, \"relevance\". A number higher than one tells us that the word is over-represented (occurs more often than one would expect looking at all books as a whole):"
   ]
  },
  {
   "cell_type": "code",
   "execution_count": 43,
   "id": "7e8119a6-18a6-4ae1-aeff-49aa1634eda1",
   "metadata": {},
   "outputs": [
    {
     "data": {
      "text/html": [
       "<div>\n",
       "<style scoped>\n",
       "    .dataframe tbody tr th:only-of-type {\n",
       "        vertical-align: middle;\n",
       "    }\n",
       "\n",
       "    .dataframe tbody tr th {\n",
       "        vertical-align: top;\n",
       "    }\n",
       "\n",
       "    .dataframe thead th {\n",
       "        text-align: right;\n",
       "    }\n",
       "</style>\n",
       "<table border=\"1\" class=\"dataframe\">\n",
       "  <thead>\n",
       "    <tr style=\"text-align: right;\">\n",
       "      <th></th>\n",
       "      <th>counts</th>\n",
       "      <th>relevance</th>\n",
       "    </tr>\n",
       "  </thead>\n",
       "  <tbody>\n",
       "    <tr>\n",
       "      <th>organisasjonsfrihet</th>\n",
       "      <td>62</td>\n",
       "      <td>6738.604227</td>\n",
       "    </tr>\n",
       "    <tr>\n",
       "      <th>trosfrihet</th>\n",
       "      <td>44</td>\n",
       "      <td>4454.184066</td>\n",
       "    </tr>\n",
       "    <tr>\n",
       "      <th>trykkefrihet</th>\n",
       "      <td>36</td>\n",
       "      <td>3512.794452</td>\n",
       "    </tr>\n",
       "    <tr>\n",
       "      <th>religionsfrihet</th>\n",
       "      <td>109</td>\n",
       "      <td>3241.999139</td>\n",
       "    </tr>\n",
       "    <tr>\n",
       "      <th>personvern</th>\n",
       "      <td>98</td>\n",
       "      <td>2347.347987</td>\n",
       "    </tr>\n",
       "    <tr>\n",
       "      <th>menings-</th>\n",
       "      <td>34</td>\n",
       "      <td>2318.778840</td>\n",
       "    </tr>\n",
       "    <tr>\n",
       "      <th>pressefrihet</th>\n",
       "      <td>37</td>\n",
       "      <td>2284.816540</td>\n",
       "    </tr>\n",
       "    <tr>\n",
       "      <th>Ytringsfrihet</th>\n",
       "      <td>25</td>\n",
       "      <td>2090.649636</td>\n",
       "    </tr>\n",
       "    <tr>\n",
       "      <th>rettssikkerhet</th>\n",
       "      <td>83</td>\n",
       "      <td>1325.928108</td>\n",
       "    </tr>\n",
       "    <tr>\n",
       "      <th>tanke-</th>\n",
       "      <td>28</td>\n",
       "      <td>1253.164936</td>\n",
       "    </tr>\n",
       "  </tbody>\n",
       "</table>\n",
       "</div>"
      ],
      "text/plain": [
       "                     counts    relevance\n",
       "organisasjonsfrihet      62  6738.604227\n",
       "trosfrihet               44  4454.184066\n",
       "trykkefrihet             36  3512.794452\n",
       "religionsfrihet         109  3241.999139\n",
       "personvern               98  2347.347987\n",
       "menings-                 34  2318.778840\n",
       "pressefrihet             37  2284.816540\n",
       "Ytringsfrihet            25  2090.649636\n",
       "rettssikkerhet           83  1325.928108\n",
       "tanke-                   28  1253.164936"
      ]
     },
     "execution_count": 43,
     "metadata": {},
     "output_type": "execute_result"
    }
   ],
   "source": [
    "corpus.coll(words=\"ytringsfrihet\", reference=frequency_list).sort(by=\"relevance\").head(10)"
   ]
  }
 ],
 "metadata": {
  "kernelspec": {
   "display_name": "Python 3 (ipykernel)",
   "language": "python",
   "name": "python3"
  },
  "language_info": {
   "codemirror_mode": {
    "name": "ipython",
    "version": 3
   },
   "file_extension": ".py",
   "mimetype": "text/x-python",
   "name": "python",
   "nbconvert_exporter": "python",
   "pygments_lexer": "ipython3",
   "version": "3.10.15"
  }
 },
 "nbformat": 4,
 "nbformat_minor": 5
}
